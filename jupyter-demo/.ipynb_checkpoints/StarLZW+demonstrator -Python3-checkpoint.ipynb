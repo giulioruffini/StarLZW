{
 "cells": [
  {
   "cell_type": "markdown",
   "metadata": {},
   "source": [
    "# LZW demonstrator (Python 3)"
   ]
  },
  {
   "cell_type": "markdown",
   "metadata": {},
   "source": [
    "The aim of this note is to  provide some reference facts for LZW---mostly from Thomas and Cover \\cite{Cover:2006aa}---adapted to the needs of the  Luminous project. LZW is an algorithm to compute a Kolmogorov Complexity estimate derived from a limited set of programs that only allow copy and insertion in strings (not Turing complete set). Despite its simplicity, it is rather powerful and fast. We focus on definitions of LZW derived complexity consistent with the notion of descriptive length, and discuss different normalizations, which result in a set of metrics we call $\\rho_0$ and $\\rho_1$."
   ]
  },
  {
   "cell_type": "code",
   "execution_count": 1,
   "metadata": {
    "collapsed": false
   },
   "outputs": [
    {
     "name": "stdout",
     "output_type": "stream",
     "text": [
      "Notebook started on 2018-03-24 11:01\n",
      "/Users/giulio/Dropbox/Py/github/StarLZW/jupyter-demo\r\n"
     ]
    }
   ],
   "source": [
    "from __future__ import absolute_import, division, print_function, unicode_literals\n",
    "\n",
    "import sys\n",
    "sys.path.append('/Users/giulio/Dropbox/Py/github/StarLZW')\n",
    "import time \n",
    "import numpy as np\n",
    "from starlzw_py3.starlzw import compress,decompress,binarizeby,ComputeDescriptionLength,Compute_rho0,ComputeER\n",
    "\n",
    "\n",
    "\n",
    "print (\"Notebook started on\", time.strftime(\"%Y-%m-%d %H:%M\"))\n",
    "\n",
    "%load_ext autoreload\n",
    "%autoreload 2\n",
    "\n",
    "!pwd"
   ]
  },
  {
   "cell_type": "markdown",
   "metadata": {},
   "source": [
    "# Examples of use"
   ]
  },
  {
   "cell_type": "code",
   "execution_count": 2,
   "metadata": {
    "collapsed": false
   },
   "outputs": [
    {
     "name": "stdout",
     "output_type": "stream",
     "text": [
      "TOBEORNOTTOBEORTOBE ORNOTTOBEORNOTTOBEORTOBEORNOTTOBEORNOTTOBEORTOBEORNOT 0101100101\n",
      "length of input string: 84\n",
      "length of dictionary: 296\n",
      "length of result: 41\n",
      "\n",
      "The compressed string: [84, 79, 66, 69, 79, 82, 78, 79, 84, 256, 258, 260, 265, 69, 32, 260, 262, 264, 257, 259, 261, 263, 268, 267, 274, 271, 277, 280, 276, 273, 266, 82, 278, 284, 32, 48, 49, 291, 292, 291, 291]\n",
      "\n",
      "Now let's decompress it: TOBEORNOTTOBEORTOBE ORNOTTOBEORNOTTOBEORTOBEORNOTTOBEORNOTTOBEORTOBEORNOT 0101100101\n"
     ]
    }
   ],
   "source": [
    "#Example of How to use this:\n",
    "theString='TOBEORNOTTOBEORTOBE ORNOTTOBEORNOTTOBEORTOBEORNOTTOBEORNOTTOBEORTOBEORNOT 0101100101'\n",
    "print (theString)\n",
    "\n",
    "\n",
    "compressed,_ = compress(theString,mode='ascii')\n",
    "print (\"\\nThe compressed string:\", compressed)\n",
    "\n",
    "print (\"\\nNow let's decompress it:\", decompress(compressed, mode='ascii'))\n"
   ]
  },
  {
   "cell_type": "code",
   "execution_count": 3,
   "metadata": {
    "collapsed": false
   },
   "outputs": [
    {
     "name": "stdout",
     "output_type": "stream",
     "text": [
      "1111101111110111111011111101111110111111011111101111110111111011111101\n",
      "length of input string: 70\n",
      "length of dictionary: 21\n",
      "length of result: 20\n",
      "\n",
      "The compressed string: [1, 2, 2, 0, 3, 3, 5, 6, 1, 8, 6, 11, 7, 9, 10, 15, 13, 4, 17, 20]\n",
      "\n",
      "Now let's decompress it: 1111101111110111111011111101111110111111011111101111110111111011111101\n"
     ]
    }
   ],
   "source": [
    "#Another example of How to use this:\n",
    "theString='111110111110111110111110111110111110111110111110111110111110'\n",
    "theString='1111101'*10\n",
    "\n",
    "\n",
    "print (theString)\n",
    "\n",
    "\n",
    "compressed,_ = compress(theString,mode='binary')\n",
    "print (\"\\nThe compressed string:\", compressed)\n",
    "\n",
    "print (\"\\nNow let's decompress it:\", decompress(compressed, mode='binary'))"
   ]
  },
  {
   "cell_type": "code",
   "execution_count": 4,
   "metadata": {
    "collapsed": false
   },
   "outputs": [
    {
     "data": {
      "text/plain": [
       "[<matplotlib.lines.Line2D at 0x1180c0f98>]"
      ]
     },
     "execution_count": 4,
     "metadata": {},
     "output_type": "execute_result"
    },
    {
     "data": {
      "image/png": "[encoded data removed]",
      "text/plain": [
       "<matplotlib.figure.Figure at 0x10ba89f60>"
      ]
     },
     "metadata": {},
     "output_type": "display_data"
    }
   ],
   "source": [
    "# create a random number list\n",
    "#datalist= [np.sin(np.random.normal(0)) for n in np.arange(0,1e6)]\n",
    "datalist= [np.sin(n/10.) for n in np.arange(0,1e6)]\n",
    "#datalist= [1 for n in np.arange(0,1e6)]\n",
    "\n",
    "# convert to np.array\n",
    "theArray = np.array(datalist)\n",
    "\n",
    "import matplotlib\n",
    "import matplotlib.pyplot as plt\n",
    "%matplotlib inline  \n",
    "plt.plot(theArray[0:200])\n",
    "plt.show()\n"
   ]
  },
  {
   "cell_type": "code",
   "execution_count": 5,
   "metadata": {
    "collapsed": false
   },
   "outputs": [
    {
     "name": "stdout",
     "output_type": "stream",
     "text": [
      "the raw array: [0.         0.09983342 0.19866933 0.29552021 0.38941834 0.47942554\n",
      " 0.56464247 0.64421769 0.71735609 0.78332691]\n"
     ]
    }
   ],
   "source": [
    "print (\"the raw array:\",theArray[0:10])"
   ]
  },
  {
   "cell_type": "code",
   "execution_count": 6,
   "metadata": {
    "collapsed": false
   },
   "outputs": [
    {
     "name": "stdout",
     "output_type": "stream",
     "text": [
      " Using median as threshold\n",
      " The median is: 5.918720566266427e-05\n",
      " Binarized data average 0.5\n",
      "the binarized array: [0 1 1 1 1 1 1 1 1 1]\n"
     ]
    }
   ],
   "source": [
    "# binarize it\n",
    "binArray=binarizeby(theArray, method=\"median\")\n",
    "print (\"the binarized array:\", binArray[0:10])"
   ]
  },
  {
   "cell_type": "markdown",
   "metadata": {},
   "source": [
    "The description length of the sequence encoded by LZW  would have length less or equal to the number of phrases times the number of bits needed to identify a seen phrase plus the bits to specify a new symbol (to form a new phrase), hence\n",
    "\\begin{equation}\n",
    "l_{LZW} \\le c(n) \\log_{2} \\left[ c(n)+ \\log_{2} A \\right] \\approx c(n) \\log_{2} \\left[ c(n)\\right]\n",
    "\\end{equation}\n",
    "\n"
   ]
  },
  {
   "cell_type": "code",
   "execution_count": 7,
   "metadata": {
    "collapsed": false
   },
   "outputs": [
    {
     "name": "stdout",
     "output_type": "stream",
     "text": [
      "length of input string: 1000000\n",
      "length of dictionary: 12630\n",
      "length of result: 12629\n",
      "distinct digits: 2\n",
      "172078\n"
     ]
    }
   ],
   "source": [
    "print (int(ComputeDescriptionLength(binArray,classic=True)))"
   ]
  },
  {
   "cell_type": "markdown",
   "metadata": {},
   "source": [
    "Actually, we can do a bit better than this. In practice, not all dictionary entries are used. We can use the max dictionary key ID and state that \"n bits are needed to describe any key entry, and there are m of them (here they are)\", leading to \n",
    "$\n",
    "l_{LZW} \\le \\log_{2}(\\log_{2}  \\max(output))+ \\mbox{length}(output) *  \\log_{2} \\left[  \\max(output) \\right]\n",
    "$, \n",
    "since we need $ \\log_{2}(\\log_{2}  \\max(output))$  bits to describe $n$. This is how it is implemented in the appended code.\n"
   ]
  },
  {
   "cell_type": "code",
   "execution_count": 8,
   "metadata": {
    "collapsed": false
   },
   "outputs": [
    {
     "name": "stdout",
     "output_type": "stream",
     "text": [
      "length of input string: 1000000\n",
      "length of dictionary: 12630\n",
      "length of result: 12629\n",
      "distinct digits: 2\n"
     ]
    },
    {
     "data": {
      "text/plain": [
       "172056"
      ]
     },
     "execution_count": 8,
     "metadata": {},
     "output_type": "execute_result"
    }
   ],
   "source": [
    "int(ComputeDescriptionLength(binArray,classic=False))"
   ]
  },
  {
   "cell_type": "code",
   "execution_count": 9,
   "metadata": {
    "collapsed": false
   },
   "outputs": [
    {
     "name": "stdout",
     "output_type": "stream",
     "text": [
      "length of input string: 1000000\n",
      "length of dictionary: 12630\n",
      "length of result: 12629\n",
      "distinct digits: 2\n",
      "compressed information ratio (bits/Sample)= 0.17\n"
     ]
    }
   ],
   "source": [
    "# compute rho0 metric \n",
    "rho0=Compute_rho0(binArray)\n",
    "print (\"compressed information ratio (bits/Sample)=\", '{:.2f}'.format(rho0))"
   ]
  },
  {
   "cell_type": "code",
   "execution_count": 10,
   "metadata": {
    "collapsed": false
   },
   "outputs": [
    {
     "name": "stdout",
     "output_type": "stream",
     "text": [
      "compressed information ratio (bits/Sample)= 0.20\n"
     ]
    }
   ],
   "source": [
    "print (\"compressed information ratio (bits/Sample)=\", '{:.2f}'.format(ComputeER(binArray,markov_order=4)))"
   ]
  },
  {
   "cell_type": "code",
   "execution_count": null,
   "metadata": {
    "collapsed": true
   },
   "outputs": [],
   "source": []
  }
 ],
 "metadata": {
  "kernelspec": {
   "display_name": "Python 3",
   "language": "python",
   "name": "python3"
  },
  "language_info": {
   "codemirror_mode": {
    "name": "ipython",
    "version": 3
   },
   "file_extension": ".py",
   "mimetype": "text/x-python",
   "name": "python",
   "nbconvert_exporter": "python",
   "pygments_lexer": "ipython3",
   "version": "3.6.4"
  }
 },
 "nbformat": 4,
 "nbformat_minor": 2
}
