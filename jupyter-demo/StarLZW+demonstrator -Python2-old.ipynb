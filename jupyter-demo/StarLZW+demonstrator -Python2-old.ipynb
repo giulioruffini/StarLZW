{
 "cells": [
  {
   "cell_type": "markdown",
   "metadata": {},
   "source": [
    "# LZW demonstrator"
   ]
  },
  {
   "cell_type": "markdown",
   "metadata": {},
   "source": [
    "The aim of this note is to  provide some reference facts for LZW---mostly from Thomas and Cover \\cite{Cover:2006aa}---adapted to the needs of the  Luminous project. LZW is an algorithm to compute a Kolmogorov Complexity estimate derived from a limited set of programs that only allow copy and insertion in strings (not Turing complete set). Despite its simplicity, it is rather powerful and fast. We focus on definitions of LZW derived complexity consistent with the notion of descriptive length, and discuss different normalizations, which result in a set of metrics we call $\\rho_0$ and $\\rho_1$."
   ]
  },
  {
   "cell_type": "code",
   "execution_count": 1,
   "metadata": {
    "collapsed": false
   },
   "outputs": [],
   "source": [
    "# LZW Update May 2017, Feb 12 2017 to match TN00344. \n",
    "# G. Ruffini with Eleni Kroupi / Starlab + Neuroelectrics (2017)\n",
    "# Updated May 2017 with Entropy rate calculators\n",
    "# Part of this code from sources as indicated, but modified to \n",
    "# be used with binary data.\n",
    "\n",
    "# Permission is hereby granted, free of charge, to any person obtaining a copy of \n",
    "# this software and associated documentation files (the \"Software\"), to deal in \n",
    "# the Software without restriction, including without limitation the rights to \n",
    "# use, copy, modify, merge, publish, distribute, sublicense, and/or sell copies of\n",
    "# the Software, and to permit persons to whom the Software is furnished to do so, \n",
    "# subject to the following conditions:\n",
    "# \n",
    "# The above copyright notice and this permission notice shall be included in all \n",
    "# copies or substantial portions of the Software.\n",
    "# \n",
    "# THE SOFTWARE IS PROVIDED \"AS IS\", WITHOUT WARRANTY OF ANY KIND, EXPRESS OR \n",
    "# IMPLIED, INCLUDING BUT NOT LIMITED TO THE WARRANTIES OF MERCHANTABILITY, FITNESS\n",
    "# FOR A PARTICULAR PURPOSE AND NONINFRINGEMENT. IN NO EVENT SHALL THE AUTHORS OR \n",
    "# COPYRIGHT HOLDERS BE LIABLE FOR ANY CLAIM, DAMAGES OR OTHER LIABILITY, WHETHER \n",
    "# IN AN ACTION OF CONTRACT, TORT OR OTHERWISE, ARISING FROM, OUT OF OR IN \n",
    "# # CONNECTION WITH THE SOFTWARE OR THE USE OR OTHER DEALINGS IN THE SOFTWARE.      \n",
    "\n",
    "\n",
    "\n",
    "import numpy as np\n",
    "##########################################################################\n",
    "\n",
    "def binarizeby(data, method=\"median\"):\n",
    "    \"\"\" Binarize 1D numpy data array using different methods: mean or median\"\"\"\n",
    "    \n",
    "    d=data*0\n",
    "    if method == \"median\":\n",
    "        thr=np.median(data)\n",
    "        d[np.where(data>= thr)]=1\n",
    "        print \" Using median as threshold\"\n",
    "        print \" The median is:\", str(thr)\n",
    "                                    \n",
    "    else: # use mean\n",
    "        thr=np.mean(data)\n",
    "        d[np.where(data>= thr)]=1\n",
    "        print \" Using mean as threshold\"\n",
    "        print \" The mean is:\", str(thr)\n",
    "    print \" Binarized data average\", str(np.mean(d.astype(np.int8)))\n",
    "    return d.astype(np.int8)\n",
    "\n",
    "\n",
    "# adapted from https://rosettacode.org/wiki/LZW_compression#Python\n",
    "def compress(theString,mode='binary',verbose=True):\n",
    "    \"\"\"Compress a *string* to a list of output symbols. Starts from two sympols, 0 and 1. \n",
    "       Returns the compressed string and the length of the dictionary\n",
    "       If you need to, convert first arrays to a string , \n",
    "       e.g., entry=\"\".join([np.str(np.int(x)) for x in theArray]) \"\"\"\n",
    " \n",
    "    if mode == 'binary':\n",
    "        dict_size=2\n",
    "        dictionary={'0':0, '1':1}\n",
    "    elif mode=='ascii':\n",
    "        # Build the dictionary for generic ascii.\n",
    "        dict_size = 256\n",
    "        dictionary = dict((chr(i), i) for i in xrange(dict_size))\n",
    "    else:\n",
    "        print \"unrecognized mode, please use binary or ascii\"\n",
    "    w = \"\"\n",
    "    result = []\n",
    "    for c in theString:\n",
    "        wc = w + c\n",
    "\n",
    "        if wc in dictionary:\n",
    "            w = wc\n",
    "        else:\n",
    "            result.append(dictionary[w])\n",
    "            # Add wc to the dictionary.\n",
    "            dictionary[wc] = dict_size\n",
    "            dict_size += 1\n",
    "            w = c\n",
    " \n",
    "    # Output the code for w.\n",
    "    if w:\n",
    "        result.append(dictionary[w])\n",
    "    if verbose:    \n",
    "        print \"length of input string:\", len(theString)    \n",
    "        print \"length of dictionary:\", len(dictionary)\n",
    "        print \"length of result:\", len(result)\n",
    "    return result,len(dictionary)\n",
    "\n",
    "\n",
    "\n",
    "def decompress(compressed,mode='binary'):\n",
    "    \"\"\"Decompress a list of output ks to a string.\"\"\"\n",
    "    from cStringIO import StringIO\n",
    " \n",
    "    if mode == 'binary':\n",
    "        dict_size=2\n",
    "        dictionary={0:'0', 1:'1'}\n",
    "        w = str(compressed.pop(0))\n",
    "\n",
    "\n",
    "    elif mode=='ascii':\n",
    "        # Build the dictionary for generic ascii.\n",
    "        dict_size = 256\n",
    "        dictionary = dict((i, chr(i)) for i in xrange(dict_size))\n",
    "        w = chr(compressed.pop(0))\n",
    "\n",
    "    else:\n",
    "        print \"unrecognized mode, please use binary or ascii\"\n",
    "\n",
    "    # use StringIO, otherwise this becomes O(N^2)\n",
    "    # due to string concatenation in a loop\n",
    "    result = StringIO()\n",
    "    result.write(w)\n",
    "\n",
    "    for k in compressed:\n",
    "        if k in dictionary:\n",
    "            entry = dictionary[k]\n",
    "        elif k == dict_size:\n",
    "            entry = w + w[0]\n",
    "        else:\n",
    "            raise ValueError('Bad compressed k: %s' % k)\n",
    "        result.write(entry)\n",
    " \n",
    "        # Add w+entry[0] to the dictionary.\n",
    "        dictionary[dict_size] = w + entry[0]\n",
    "        dict_size += 1\n",
    " \n",
    "        w = entry\n",
    "    return result.getvalue()\n",
    "      \n",
    "    \n",
    "    \n",
    "############################################################################## \n",
    "                      \n",
    "def Compute_rho0(theArray):\n",
    "    \"\"\"Computes rho0 metric (bits/Sample) as described in TN000344 Starlab / Luminous \"\"\"\n",
    "\n",
    "    return    ComputeDescriptionLength(theArray) / len(theArray)*1.0   \n",
    "\n",
    "def Compute_rho1(theArray):\n",
    "    \"\"\"Computes rho1 metric (bits/Sample) as described in TN000344 /Starlab Luminous\"\"\"\n",
    "\n",
    "    return    ComputeDescriptionLength(theArray) / ShannonEntropy(theArray)  / len(theArray)\n",
    "\n",
    "def Compute_rho2(theArray):\n",
    "    \"\"\"Computes rho2 metric (bits/Sample) as described in TN00044 \"\"\"\n",
    "\n",
    "    return    Compute_rho0(theArray)- ShannonEntropy(theArray)  \n",
    "\n",
    "\n",
    "def ComputeDescriptionLength(theArray,classic=False):\n",
    "    \"\"\"Computes description lenght l_{LZW} as described in TN000344\"\"\"\n",
    "\n",
    "    entry=\"\".join([np.str(np.int(x)) for x in theArray])   \n",
    "    \n",
    "    compressedstring,len_dict=compress(entry)  # returns \n",
    "    ndigits=len(np.unique(theArray))\n",
    "    print \"distinct digits:\", ndigits\n",
    "    \n",
    "\n",
    "    \n",
    "    # you need n bits log(max(comp))) to describe this sequence. And there are this many: len(a)...\n",
    "    # DL: \"you need n bits. There are these (m) of them\".\n",
    "\n",
    "    DL=np.log2(np.log2(max(compressedstring)))+ np.log2(max(compressedstring))*len(compressedstring)\n",
    "    \n",
    "    if classic:\n",
    "    # old way ... more for LZ than LZW:\n",
    "      DL= len_dict*np.log2(len_dict)\n",
    "    \n",
    "    return DL\n",
    "\n",
    "def ShannonEntropy(labels):\n",
    "    \"\"\" Computes entropy of label distribution. numpy array int in \"\"\"\n",
    "    n_labels = len(labels)\n",
    "    if n_labels <= 1:\n",
    "        return 0\n",
    "\n",
    "    counts = np.bincount(labels)\n",
    "    probs = counts*1.0 / n_labels*1.0\n",
    "    n_classes = np.count_nonzero(probs)\n",
    "  \n",
    "    if n_classes <= 1:\n",
    "        return 0\n",
    "    \n",
    "    # Compute standard entropy.\n",
    "    ent = 0.\n",
    "    for i in probs:\n",
    "        ent -= i * np.log2(i)\n",
    "\n",
    "    return ent\n",
    "\n",
    "\n",
    "##########################################################################\n",
    "# Entropy rate of English ...\n",
    "\n",
    "import re, codecs, random, math, textwrap\n",
    "from collections import defaultdict, deque, Counter\n",
    "\n",
    "def ComputeER(theArray, markov_order=4):\n",
    "        \"\"\" Compute entropy rate of array with some memomory / markov_order\"\"\"\n",
    "        # compute entropy rate ...\n",
    "        #np.savetxt(\"rule.txt\",  theArray.astype(int),fmt='%i', delimiter=\"\")\n",
    "        #model, stats = markov_model(chars(\"rule.txt\"), markov_order)\n",
    "        datastream=streamArray(theArray.astype(int))\n",
    "        model, stats = markov_model(datastream, markov_order)\n",
    "        del datastream\n",
    "        return entropy_rate(model, stats)\n",
    "    \n",
    "    \n",
    "def streamArray(theArray):\n",
    "    \"\"\"Generator for array elements (convenient)\"\"\"\n",
    "    for element in theArray:\n",
    "        yield element\n",
    "        \n",
    "\n",
    "# The following 3 are adapted from:  \n",
    "# Clement Pit--Claudel (http://pit-claudel.fr/clement/blog)\n",
    "def markov_model(stream, model_order):\n",
    "    \"\"\"model describes prob of a digit appearing following n prior ones\"\"\"\n",
    "    \"\"\" Stats provide frequencies of groups of n symbols\"\"\"\n",
    "    model, stats = defaultdict(Counter), Counter()\n",
    "    circular_buffer = deque(maxlen = model_order)\n",
    "    \n",
    "    for token in stream:\n",
    "        prefix = tuple(circular_buffer)\n",
    "        circular_buffer.append(token)\n",
    "        if len(prefix) == model_order:\n",
    "            stats[prefix] += 1.0\n",
    "            model[prefix][token] += 1.0\n",
    "    return model, stats\n",
    "\n",
    "def entropy(stats, normalization_factor):\n",
    "    return -sum(proba / normalization_factor * math.log(proba \n",
    "                    / normalization_factor, 2) for proba in stats.values())\n",
    "\n",
    "def entropy_rate(model, stats):\n",
    "\n",
    "    return sum(stats[prefix] * entropy(model[prefix], stats[prefix]) \n",
    "               for prefix in stats) / sum(stats.values())\n",
    "\n",
    "\n",
    "\n",
    "\n",
    "    "
   ]
  },
  {
   "cell_type": "markdown",
   "metadata": {},
   "source": [
    "# Examples of use"
   ]
  },
  {
   "cell_type": "code",
   "execution_count": 2,
   "metadata": {
    "collapsed": false
   },
   "outputs": [
    {
     "name": "stdout",
     "output_type": "stream",
     "text": [
      "TOBEORNOTTOBEORTOBE ORNOTTOBEORNOTTOBEORTOBEORNOTTOBEORNOTTOBEORTOBEORNOT 0101100101\n",
      "length of input string: 84\n",
      "length of dictionary: 296\n",
      "length of result: 41\n",
      "\n",
      "The compressed string: [84, 79, 66, 69, 79, 82, 78, 79, 84, 256, 258, 260, 265, 69, 32, 260, 262, 264, 257, 259, 261, 263, 268, 267, 274, 271, 277, 280, 276, 273, 266, 82, 278, 284, 32, 48, 49, 291, 292, 291, 291]\n",
      "\n",
      "Now let's decompress it: TOBEORNOTTOBEORTOBE ORNOTTOBEORNOTTOBEORTOBEORNOTTOBEORNOTTOBEORTOBEORNOT 0101100101\n"
     ]
    }
   ],
   "source": [
    "#Example of How to use this:\n",
    "theString='TOBEORNOTTOBEORTOBE ORNOTTOBEORNOTTOBEORTOBEORNOTTOBEORNOTTOBEORTOBEORNOT 0101100101'\n",
    "print theString\n",
    "\n",
    "\n",
    "compressed,_ = compress(theString,mode='ascii')\n",
    "print \"\\nThe compressed string:\", compressed\n",
    "\n",
    "print \"\\nNow let's decompress it:\", decompress(compressed, mode='ascii')\n"
   ]
  },
  {
   "cell_type": "code",
   "execution_count": 3,
   "metadata": {
    "collapsed": false
   },
   "outputs": [
    {
     "name": "stdout",
     "output_type": "stream",
     "text": [
      "1111101111110111111011111101111110111111011111101111110111111011111101\n",
      "length of input string: 70\n",
      "length of dictionary: 21\n",
      "length of result: 20\n",
      "\n",
      "The compressed string: [1, 2, 2, 0, 3, 3, 5, 6, 1, 8, 6, 11, 7, 9, 10, 15, 13, 4, 17, 20]\n",
      "\n",
      "Now let's decompress it: 1111101111110111111011111101111110111111011111101111110111111011111101\n"
     ]
    }
   ],
   "source": [
    "#Another example of How to use this:\n",
    "theString='111110111110111110111110111110111110111110111110111110111110'\n",
    "theString='1111101'*10\n",
    "\n",
    "\n",
    "print theString\n",
    "\n",
    "\n",
    "compressed,_ = compress(theString,mode='binary')\n",
    "print \"\\nThe compressed string:\", compressed\n",
    "\n",
    "print \"\\nNow let's decompress it:\", decompress(compressed, mode='binary')"
   ]
  },
  {
   "cell_type": "code",
   "execution_count": 4,
   "metadata": {
    "collapsed": false
   },
   "outputs": [
    {
     "data": {
      "image/png": "[encoded data removed]",
      "text/plain": [
       "<matplotlib.figure.Figure at 0x117771f50>"
      ]
     },
     "metadata": {},
     "output_type": "display_data"
    }
   ],
   "source": [
    "# create a random number list\n",
    "#datalist= [np.sin(np.random.normal(0)) for n in np.arange(0,1e6)]\n",
    "datalist= [np.sin(n/10.) for n in np.arange(0,1e6)]\n",
    "#datalist= [1 for n in np.arange(0,1e6)]\n",
    "\n",
    "# convert to np.array\n",
    "theArray = np.array(datalist)\n",
    "\n",
    "import matplotlib\n",
    "import matplotlib.pyplot as plt\n",
    "%matplotlib inline  \n",
    "plt.plot(theArray[0:200])\n",
    "plt.show()\n"
   ]
  },
  {
   "cell_type": "code",
   "execution_count": 5,
   "metadata": {
    "collapsed": false
   },
   "outputs": [
    {
     "name": "stdout",
     "output_type": "stream",
     "text": [
      "the raw array: [ 0.          0.09983342  0.19866933  0.29552021  0.38941834  0.47942554\n",
      "  0.56464247  0.64421769  0.71735609  0.78332691]\n"
     ]
    }
   ],
   "source": [
    "print \"the raw array:\",theArray[0:10]"
   ]
  },
  {
   "cell_type": "code",
   "execution_count": 6,
   "metadata": {
    "collapsed": false
   },
   "outputs": [
    {
     "name": "stdout",
     "output_type": "stream",
     "text": [
      " Using median as threshold\n",
      " The median is: 5.91872056627e-05\n",
      " Binarized data average 0.5\n",
      "the binarized array: [0 1 1 1 1 1 1 1 1 1]\n"
     ]
    }
   ],
   "source": [
    "# binarize it\n",
    "binArray=binarizeby(theArray, method=\"median\")\n",
    "print \"the binarized array:\", binArray[0:10]"
   ]
  },
  {
   "cell_type": "markdown",
   "metadata": {},
   "source": [
    "The description length of the sequence encoded by LZW  would have length less or equal to the number of phrases times the number of bits needed to identify a seen phrase plus the bits to specify a new symbol (to form a new phrase), hence\n",
    "\\begin{equation}\n",
    "l_{LZW} \\le c(n) \\log_{2} \\left[ c(n)+ \\log_{2} A \\right] \\approx c(n) \\log_{2} \\left[ c(n)\\right]\n",
    "\\end{equation}\n",
    "\n"
   ]
  },
  {
   "cell_type": "code",
   "execution_count": 7,
   "metadata": {
    "collapsed": false
   },
   "outputs": [
    {
     "name": "stdout",
     "output_type": "stream",
     "text": [
      "length of input string: 1000000\n",
      "length of dictionary: 12630\n",
      "length of result: 12629\n",
      "distinct digits: 2\n",
      "172078\n"
     ]
    }
   ],
   "source": [
    "print int(ComputeDescriptionLength(binArray,classic=True))"
   ]
  },
  {
   "cell_type": "markdown",
   "metadata": {},
   "source": [
    "Actually, we can do a bit better than this. In practice, not all dictionary entries are used. We can use the max dictionary key ID and state that \"n bits are needed to describe any key entry, and there are m of them (here they are)\", leading to \n",
    "$\n",
    "l_{LZW} \\le \\log_{2}(\\log_{2}  \\max(output))+ \\mbox{length}(output) *  \\log_{2} \\left[  \\max(output) \\right]\n",
    "$, \n",
    "since we need $ \\log_{2}(\\log_{2}  \\max(output))$  bits to describe $n$. This is how it is implemented in the appended code.\n"
   ]
  },
  {
   "cell_type": "code",
   "execution_count": 8,
   "metadata": {
    "collapsed": false
   },
   "outputs": [
    {
     "name": "stdout",
     "output_type": "stream",
     "text": [
      "length of input string: 1000000\n",
      "length of dictionary: 12630\n",
      "length of result: 12629\n",
      "distinct digits: 2\n"
     ]
    },
    {
     "data": {
      "text/plain": [
       "172056"
      ]
     },
     "execution_count": 8,
     "metadata": {},
     "output_type": "execute_result"
    }
   ],
   "source": [
    "int(ComputeDescriptionLength(binArray,classic=False))"
   ]
  },
  {
   "cell_type": "code",
   "execution_count": 9,
   "metadata": {
    "collapsed": false
   },
   "outputs": [
    {
     "name": "stdout",
     "output_type": "stream",
     "text": [
      "length of input string: 1000000\n",
      "length of dictionary: 12630\n",
      "length of result: 12629\n",
      "distinct digits: 2\n",
      "compressed information ratio (bits/Sample)= 0.17\n"
     ]
    }
   ],
   "source": [
    "# compute rho0 metric \n",
    "rho0=Compute_rho0(binArray)\n",
    "print \"compressed information ratio (bits/Sample)=\", '{:.2f}'.format(rho0)"
   ]
  },
  {
   "cell_type": "code",
   "execution_count": 10,
   "metadata": {
    "collapsed": false
   },
   "outputs": [
    {
     "name": "stdout",
     "output_type": "stream",
     "text": [
      "compressed information ratio (bits/Sample)= 0.20\n"
     ]
    }
   ],
   "source": [
    "print \"compressed information ratio (bits/Sample)=\", '{:.2f}'.format(ComputeER(binArray,markov_order=4))"
   ]
  },
  {
   "cell_type": "code",
   "execution_count": null,
   "metadata": {
    "collapsed": true
   },
   "outputs": [],
   "source": []
  }
 ],
 "metadata": {
  "kernelspec": {
   "display_name": "Python 2",
   "language": "python",
   "name": "python2"
  },
  "language_info": {
   "codemirror_mode": {
    "name": "ipython",
    "version": 2
   },
   "file_extension": ".py",
   "mimetype": "text/x-python",
   "name": "python",
   "nbconvert_exporter": "python",
   "pygments_lexer": "ipython2",
   "version": "2.7.13"
  }
 },
 "nbformat": 4,
 "nbformat_minor": 2
}
